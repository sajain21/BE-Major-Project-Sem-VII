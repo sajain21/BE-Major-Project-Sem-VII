{
  "cells": [
    {
      "cell_type": "code",
      "execution_count": null,
      "metadata": {
        "colab": {
          "base_uri": "https://localhost:8080/"
        },
        "id": "RDi_-7lVY2Vg",
        "outputId": "6aceb2b7-660e-452b-ab38-ecb81fb1e91f"
      },
      "outputs": [
        {
          "output_type": "stream",
          "name": "stdout",
          "text": [
            "Reading package lists... Done\n",
            "Building dependency tree       \n",
            "Reading state information... Done\n",
            "pkg-config is already the newest version (0.29.1-0ubuntu2).\n",
            "The following package was automatically installed and is no longer required:\n",
            "  libnvidia-common-460\n",
            "Use 'apt autoremove' to remove it.\n",
            "The following additional packages will be installed:\n",
            "  tesseract-ocr-eng tesseract-ocr-osd\n",
            "The following NEW packages will be installed:\n",
            "  libleptonica-dev libtesseract-dev tesseract-ocr tesseract-ocr-eng\n",
            "  tesseract-ocr-osd\n",
            "0 upgraded, 5 newly installed, 0 to remove and 5 not upgraded.\n",
            "Need to get 7,550 kB of archives.\n",
            "After this operation, 29.6 MB of additional disk space will be used.\n",
            "Get:1 http://archive.ubuntu.com/ubuntu bionic/universe amd64 libleptonica-dev amd64 1.75.3-3 [1,308 kB]\n",
            "Get:2 http://archive.ubuntu.com/ubuntu bionic/universe amd64 libtesseract-dev amd64 4.00~git2288-10f4998a-2 [1,447 kB]\n",
            "Get:3 http://archive.ubuntu.com/ubuntu bionic/universe amd64 tesseract-ocr-eng all 4.00~git24-0e00fe6-1.2 [1,588 kB]\n",
            "Get:4 http://archive.ubuntu.com/ubuntu bionic/universe amd64 tesseract-ocr-osd all 4.00~git24-0e00fe6-1.2 [2,989 kB]\n",
            "Get:5 http://archive.ubuntu.com/ubuntu bionic/universe amd64 tesseract-ocr amd64 4.00~git2288-10f4998a-2 [218 kB]\n",
            "Fetched 7,550 kB in 2s (4,007 kB/s)\n",
            "Selecting previously unselected package libleptonica-dev.\n",
            "(Reading database ... 123942 files and directories currently installed.)\n",
            "Preparing to unpack .../libleptonica-dev_1.75.3-3_amd64.deb ...\n",
            "Unpacking libleptonica-dev (1.75.3-3) ...\n",
            "Selecting previously unselected package libtesseract-dev.\n",
            "Preparing to unpack .../libtesseract-dev_4.00~git2288-10f4998a-2_amd64.deb ...\n",
            "Unpacking libtesseract-dev (4.00~git2288-10f4998a-2) ...\n",
            "Selecting previously unselected package tesseract-ocr-eng.\n",
            "Preparing to unpack .../tesseract-ocr-eng_4.00~git24-0e00fe6-1.2_all.deb ...\n",
            "Unpacking tesseract-ocr-eng (4.00~git24-0e00fe6-1.2) ...\n",
            "Selecting previously unselected package tesseract-ocr-osd.\n",
            "Preparing to unpack .../tesseract-ocr-osd_4.00~git24-0e00fe6-1.2_all.deb ...\n",
            "Unpacking tesseract-ocr-osd (4.00~git24-0e00fe6-1.2) ...\n",
            "Selecting previously unselected package tesseract-ocr.\n",
            "Preparing to unpack .../tesseract-ocr_4.00~git2288-10f4998a-2_amd64.deb ...\n",
            "Unpacking tesseract-ocr (4.00~git2288-10f4998a-2) ...\n",
            "Setting up libleptonica-dev (1.75.3-3) ...\n",
            "Setting up tesseract-ocr-osd (4.00~git24-0e00fe6-1.2) ...\n",
            "Setting up tesseract-ocr-eng (4.00~git24-0e00fe6-1.2) ...\n",
            "Setting up libtesseract-dev (4.00~git2288-10f4998a-2) ...\n",
            "Setting up tesseract-ocr (4.00~git2288-10f4998a-2) ...\n",
            "Processing triggers for man-db (2.8.3-2ubuntu0.1) ...\n"
          ]
        }
      ],
      "source": [
        "!apt-get install tesseract-ocr libtesseract-dev libleptonica-dev pkg-config"
      ]
    },
    {
      "cell_type": "code",
      "source": [
        "!sudo apt-get install tesseract-ocr-hin\n",
        "!tesseract --list-langs"
      ],
      "metadata": {
        "colab": {
          "base_uri": "https://localhost:8080/"
        },
        "id": "vOsWQVeDJ4Iz",
        "outputId": "d698e876-2400-429c-fffb-cd013a1f6480"
      },
      "execution_count": null,
      "outputs": [
        {
          "output_type": "stream",
          "name": "stdout",
          "text": [
            "Reading package lists... Done\n",
            "Building dependency tree       \n",
            "Reading state information... Done\n",
            "The following package was automatically installed and is no longer required:\n",
            "  libnvidia-common-460\n",
            "Use 'sudo apt autoremove' to remove it.\n",
            "The following NEW packages will be installed:\n",
            "  tesseract-ocr-hin\n",
            "0 upgraded, 1 newly installed, 0 to remove and 5 not upgraded.\n",
            "Need to get 912 kB of archives.\n",
            "After this operation, 1,138 kB of additional disk space will be used.\n",
            "Get:1 http://archive.ubuntu.com/ubuntu bionic/universe amd64 tesseract-ocr-hin all 4.00~git24-0e00fe6-1.2 [912 kB]\n",
            "Fetched 912 kB in 1s (798 kB/s)\n",
            "debconf: unable to initialize frontend: Dialog\n",
            "debconf: (No usable dialog-like program is installed, so the dialog based frontend cannot be used. at /usr/share/perl5/Debconf/FrontEnd/Dialog.pm line 76, <> line 1.)\n",
            "debconf: falling back to frontend: Readline\n",
            "debconf: unable to initialize frontend: Readline\n",
            "debconf: (This frontend requires a controlling tty.)\n",
            "debconf: falling back to frontend: Teletype\n",
            "dpkg-preconfigure: unable to re-open stdin: \n",
            "Selecting previously unselected package tesseract-ocr-hin.\n",
            "(Reading database ... 124100 files and directories currently installed.)\n",
            "Preparing to unpack .../tesseract-ocr-hin_4.00~git24-0e00fe6-1.2_all.deb ...\n",
            "Unpacking tesseract-ocr-hin (4.00~git24-0e00fe6-1.2) ...\n",
            "Setting up tesseract-ocr-hin (4.00~git24-0e00fe6-1.2) ...\n",
            "List of available languages (3):\n",
            "osd\n",
            "hin\n",
            "eng\n"
          ]
        }
      ]
    },
    {
      "cell_type": "code",
      "source": [
        "!pip install tesserocr"
      ],
      "metadata": {
        "colab": {
          "base_uri": "https://localhost:8080/"
        },
        "id": "OO1EMtvSZiuE",
        "outputId": "a083fd0e-b9a0-473c-f437-45a7175a5059"
      },
      "execution_count": null,
      "outputs": [
        {
          "output_type": "stream",
          "name": "stdout",
          "text": [
            "Looking in indexes: https://pypi.org/simple, https://us-python.pkg.dev/colab-wheels/public/simple/\n",
            "Collecting tesserocr\n",
            "  Downloading tesserocr-2.5.2.tar.gz (57 kB)\n",
            "\u001b[K     |████████████████████████████████| 57 kB 3.7 MB/s \n",
            "\u001b[?25hBuilding wheels for collected packages: tesserocr\n",
            "  Building wheel for tesserocr (setup.py) ... \u001b[?25l\u001b[?25hdone\n",
            "  Created wheel for tesserocr: filename=tesserocr-2.5.2-cp37-cp37m-linux_x86_64.whl size=565139 sha256=e19f819ff14cb9ab614a609420b4f29d8a45a3b0cfed6f49a7deaa32f05ca4ce\n",
            "  Stored in directory: /root/.cache/pip/wheels/49/8d/88/b9bea6675bd9622b11dc028fa2948b23b1299a0a4e5bab832f\n",
            "Successfully built tesserocr\n",
            "Installing collected packages: tesserocr\n",
            "Successfully installed tesserocr-2.5.2\n"
          ]
        }
      ]
    },
    {
      "cell_type": "code",
      "source": [
        "from PIL import Image, ImageDraw\n",
        "from tesserocr import PyTessBaseAPI, RIL"
      ],
      "metadata": {
        "id": "j-A05I6I_TmS"
      },
      "execution_count": null,
      "outputs": []
    },
    {
      "cell_type": "code",
      "source": [
        "with PyTessBaseAPI(lang='hin') as api:\n",
        "    api.SetImageFile('img5.jpg')\n",
        "    lines=api.GetComponentImages(RIL.TEXTLINE, 1)\n",
        "lines"
      ],
      "metadata": {
        "colab": {
          "base_uri": "https://localhost:8080/"
        },
        "id": "F1CPlbPOEsNE",
        "outputId": "1bae1469-b343-4db0-d2ec-aa768d557c0d"
      },
      "execution_count": null,
      "outputs": [
        {
          "output_type": "execute_result",
          "data": {
            "text/plain": [
              "[(<PIL.BmpImagePlugin.BmpImageFile image mode=P size=919x95 at 0x7FBA88CB6510>,\n",
              "  {'x': 24, 'y': 28, 'w': 919, 'h': 95},\n",
              "  0,\n",
              "  None),\n",
              " (<PIL.BmpImagePlugin.BmpImageFile image mode=P size=566x83 at 0x7FBA912E2E50>,\n",
              "  {'x': 753, 'y': 129, 'w': 566, 'h': 83},\n",
              "  0,\n",
              "  None),\n",
              " (<PIL.BmpImagePlugin.BmpImageFile image mode=P size=1180x115 at 0x7FBA88C21950>,\n",
              "  {'x': 54, 'y': 131, 'w': 1180, 'h': 115},\n",
              "  0,\n",
              "  None),\n",
              " (<PIL.BmpImagePlugin.BmpImageFile image mode=P size=1300x82 at 0x7FBA88C21F50>,\n",
              "  {'x': 49, 'y': 217, 'w': 1300, 'h': 82},\n",
              "  0,\n",
              "  None),\n",
              " (<PIL.BmpImagePlugin.BmpImageFile image mode=P size=1331x94 at 0x7FBA88C21FD0>,\n",
              "  {'x': 54, 'y': 312, 'w': 1331, 'h': 94},\n",
              "  1,\n",
              "  None),\n",
              " (<PIL.BmpImagePlugin.BmpImageFile image mode=P size=329x82 at 0x7FBA88C2A050>,\n",
              "  {'x': 85, 'y': 400, 'w': 329, 'h': 82},\n",
              "  2,\n",
              "  None)]"
            ]
          },
          "metadata": {},
          "execution_count": 8
        }
      ]
    },
    {
      "cell_type": "code",
      "source": [
        "lines[2][0].save( 'image.png', 'png')"
      ],
      "metadata": {
        "id": "wckeBoArt6fH"
      },
      "execution_count": null,
      "outputs": []
    },
    {
      "cell_type": "code",
      "source": [
        "lines[3][0]"
      ],
      "metadata": {
        "colab": {
          "base_uri": "https://localhost:8080/",
          "height": 99
        },
        "id": "S6VppMGeV68o",
        "outputId": "f78128ec-03ae-465d-cb2c-680a9d2e872b"
      },
      "execution_count": null,
      "outputs": [
        {
          "output_type": "execute_result",
          "data": {
            "text/plain": [
              "<PIL.BmpImagePlugin.BmpImageFile image mode=P size=1300x82 at 0x7FBA88C21F50>"
            ],
            "image/png": "[encoded data removed]"
          },
          "metadata": {},
          "execution_count": 10
        }
      ]
    },
    {
      "cell_type": "code",
      "source": [
        "with PyTessBaseAPI(lang='hin') as api:\n",
        "    api.SetImageFile('image.png')\n",
        "    words=api.GetComponentImages(RIL.WORD, 1)\n",
        "\n",
        "words"
      ],
      "metadata": {
        "colab": {
          "base_uri": "https://localhost:8080/"
        },
        "id": "ATYh0yB3HhqW",
        "outputId": "6bbefe5f-68b2-4b49-81ce-8ea47113d5f5"
      },
      "execution_count": null,
      "outputs": [
        {
          "output_type": "execute_result",
          "data": {
            "text/plain": [
              "[(<PIL.BmpImagePlugin.BmpImageFile image mode=P size=113x46 at 0x7FBA8026D8D0>,\n",
              "  {'x': 0, 'y': 40, 'w': 113, 'h': 46},\n",
              "  0,\n",
              "  None),\n",
              " (<PIL.BmpImagePlugin.BmpImageFile image mode=P size=96x32 at 0x7FBA886CFF10>,\n",
              "  {'x': 149, 'y': 48, 'w': 96, 'h': 32},\n",
              "  0,\n",
              "  None),\n",
              " (<PIL.BmpImagePlugin.BmpImageFile image mode=P size=155x62 at 0x7FBA7F936650>,\n",
              "  {'x': 296, 'y': 20, 'w': 155, 'h': 62},\n",
              "  0,\n",
              "  None),\n",
              " (<PIL.BmpImagePlugin.BmpImageFile image mode=P size=114x71 at 0x7FBA7F936090>,\n",
              "  {'x': 497, 'y': 8, 'w': 114, 'h': 71},\n",
              "  0,\n",
              "  None),\n",
              " (<PIL.BmpImagePlugin.BmpImageFile image mode=P size=242x68 at 0x7FBA7F936710>,\n",
              "  {'x': 708, 'y': 13, 'w': 242, 'h': 68},\n",
              "  0,\n",
              "  None),\n",
              " (<PIL.BmpImagePlugin.BmpImageFile image mode=P size=156x72 at 0x7FBA7F9369D0>,\n",
              "  {'x': 964, 'y': 0, 'w': 156, 'h': 72},\n",
              "  0,\n",
              "  None),\n",
              " (<PIL.BmpImagePlugin.BmpImageFile image mode=P size=51x13 at 0x7FBA7F936890>,\n",
              "  {'x': 385, 'y': 102, 'w': 51, 'h': 13},\n",
              "  1,\n",
              "  None),\n",
              " (<PIL.BmpImagePlugin.BmpImageFile image mode=P size=38x12 at 0x7FBA7F936E50>,\n",
              "  {'x': 445, 'y': 103, 'w': 38, 'h': 12},\n",
              "  1,\n",
              "  None),\n",
              " (<PIL.BmpImagePlugin.BmpImageFile image mode=P size=19x17 at 0x7FBA7F936690>,\n",
              "  {'x': 513, 'y': 98, 'w': 19, 'h': 17},\n",
              "  1,\n",
              "  None)]"
            ]
          },
          "metadata": {},
          "execution_count": 33
        }
      ]
    },
    {
      "cell_type": "code",
      "source": [
        "words[2][0]"
      ],
      "metadata": {
        "colab": {
          "base_uri": "https://localhost:8080/",
          "height": 79
        },
        "id": "4BMj0F5YbTZq",
        "outputId": "61635d8c-6b03-4df3-b77a-98a43d63e044"
      },
      "execution_count": null,
      "outputs": [
        {
          "output_type": "execute_result",
          "data": {
            "text/plain": [
              "<PIL.BmpImagePlugin.BmpImageFile image mode=P size=155x62 at 0x7FBA7F936650>"
            ],
            "image/png": "[encoded data removed]"
          },
          "metadata": {},
          "execution_count": 35
        }
      ]
    },
    {
      "cell_type": "code",
      "source": [
        "words[3][0].save( 'word.png', 'png')\n",
        "with PyTessBaseAPI(lang='hin') as api:\n",
        "    api.SetImageFile('word.png')\n",
        "    symbols=api.GetComponentImages(RIL.SYMBOL, 0)\n",
        "\n",
        "symbols"
      ],
      "metadata": {
        "colab": {
          "base_uri": "https://localhost:8080/"
        },
        "id": "jX4_p9ABuyCy",
        "outputId": "c3c01434-0e90-4c49-9e34-237489ae2eff"
      },
      "execution_count": null,
      "outputs": [
        {
          "output_type": "execute_result",
          "data": {
            "text/plain": [
              "[(<PIL.BmpImagePlugin.BmpImageFile image mode=P size=60x33 at 0x7FBA72416290>,\n",
              "  {'x': 0, 'y': 36, 'w': 60, 'h': 33},\n",
              "  0,\n",
              "  None),\n",
              " (<PIL.BmpImagePlugin.BmpImageFile image mode=P size=88x71 at 0x7FBA72419210>,\n",
              "  {'x': 26, 'y': 0, 'w': 88, 'h': 71},\n",
              "  0,\n",
              "  None),\n",
              " (<PIL.BmpImagePlugin.BmpImageFile image mode=P size=9x33 at 0x7FBA72419190>,\n",
              "  {'x': 63, 'y': 36, 'w': 9, 'h': 33},\n",
              "  0,\n",
              "  None)]"
            ]
          },
          "metadata": {},
          "execution_count": 53
        }
      ]
    }
  ],
  "metadata": {
    "colab": {
      "collapsed_sections": [],
      "provenance": []
    },
    "kernelspec": {
      "display_name": "Python 3.9",
      "language": "python",
      "name": "python3"
    },
    "language_info": {
      "codemirror_mode": {
        "name": "ipython",
        "version": 3
      },
      "file_extension": ".py",
      "mimetype": "text/x-python",
      "name": "python",
      "nbconvert_exporter": "python",
      "pygments_lexer": "ipython3",
      "version": "3.9.12"
    }
  },
  "nbformat": 4,
  "nbformat_minor": 0
}