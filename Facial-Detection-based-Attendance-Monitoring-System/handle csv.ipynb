{
 "cells": [
  {
   "cell_type": "code",
   "execution_count": 7,
   "id": "729d98ce",
   "metadata": {},
   "outputs": [],
   "source": [
    "import pandas as pd"
   ]
  },
  {
   "cell_type": "code",
   "execution_count": 8,
   "id": "afcb81a2",
   "metadata": {},
   "outputs": [],
   "source": [
    "cols = [\"Name\", \"Time\", \"Date\"]\n",
    "df = pd.read_csv(\"Attendance.csv\", names = cols)"
   ]
  },
  {
   "cell_type": "code",
   "execution_count": 9,
   "id": "f8f37a3a",
   "metadata": {},
   "outputs": [
    {
     "data": {
      "text/html": [
       "<div>\n",
       "<style scoped>\n",
       "    .dataframe tbody tr th:only-of-type {\n",
       "        vertical-align: middle;\n",
       "    }\n",
       "\n",
       "    .dataframe tbody tr th {\n",
       "        vertical-align: top;\n",
       "    }\n",
       "\n",
       "    .dataframe thead th {\n",
       "        text-align: right;\n",
       "    }\n",
       "</style>\n",
       "<table border=\"1\" class=\"dataframe\">\n",
       "  <thead>\n",
       "    <tr style=\"text-align: right;\">\n",
       "      <th></th>\n",
       "      <th>Name</th>\n",
       "      <th>Time</th>\n",
       "      <th>Date</th>\n",
       "    </tr>\n",
       "  </thead>\n",
       "  <tbody>\n",
       "    <tr>\n",
       "      <th>0</th>\n",
       "      <td>ABDUL SAMAD</td>\n",
       "      <td>13:13:43</td>\n",
       "      <td>10/20/22/10/2022</td>\n",
       "    </tr>\n",
       "    <tr>\n",
       "      <th>1</th>\n",
       "      <td>ABDUL SAMAD</td>\n",
       "      <td>13:13:44</td>\n",
       "      <td>10/20/22/10/2022</td>\n",
       "    </tr>\n",
       "    <tr>\n",
       "      <th>2</th>\n",
       "      <td>ABDUL SAMAD</td>\n",
       "      <td>13:13:45</td>\n",
       "      <td>10/20/22/10/2022</td>\n",
       "    </tr>\n",
       "    <tr>\n",
       "      <th>3</th>\n",
       "      <td>ABDUL SAMAD</td>\n",
       "      <td>13:13:45</td>\n",
       "      <td>10/20/22/10/2022</td>\n",
       "    </tr>\n",
       "    <tr>\n",
       "      <th>4</th>\n",
       "      <td>ABDUL SAMAD</td>\n",
       "      <td>13:13:45</td>\n",
       "      <td>10/20/22/10/2022</td>\n",
       "    </tr>\n",
       "  </tbody>\n",
       "</table>\n",
       "</div>"
      ],
      "text/plain": [
       "          Name       Time                Date\n",
       "0  ABDUL SAMAD   13:13:43   10/20/22/10/2022 \n",
       "1  ABDUL SAMAD   13:13:44   10/20/22/10/2022 \n",
       "2  ABDUL SAMAD   13:13:45   10/20/22/10/2022 \n",
       "3  ABDUL SAMAD   13:13:45   10/20/22/10/2022 \n",
       "4  ABDUL SAMAD   13:13:45   10/20/22/10/2022 "
      ]
     },
     "execution_count": 9,
     "metadata": {},
     "output_type": "execute_result"
    }
   ],
   "source": [
    "df.head()"
   ]
  },
  {
   "cell_type": "code",
   "execution_count": 10,
   "id": "30942dfa",
   "metadata": {},
   "outputs": [],
   "source": [
    "df1 = df.drop_duplicates(subset=['Name']).reset_index(drop=True)"
   ]
  },
  {
   "cell_type": "code",
   "execution_count": 11,
   "id": "d63bc119",
   "metadata": {},
   "outputs": [
    {
     "data": {
      "text/html": [
       "<div>\n",
       "<style scoped>\n",
       "    .dataframe tbody tr th:only-of-type {\n",
       "        vertical-align: middle;\n",
       "    }\n",
       "\n",
       "    .dataframe tbody tr th {\n",
       "        vertical-align: top;\n",
       "    }\n",
       "\n",
       "    .dataframe thead th {\n",
       "        text-align: right;\n",
       "    }\n",
       "</style>\n",
       "<table border=\"1\" class=\"dataframe\">\n",
       "  <thead>\n",
       "    <tr style=\"text-align: right;\">\n",
       "      <th></th>\n",
       "      <th>Name</th>\n",
       "      <th>Time</th>\n",
       "      <th>Date</th>\n",
       "    </tr>\n",
       "  </thead>\n",
       "  <tbody>\n",
       "    <tr>\n",
       "      <th>0</th>\n",
       "      <td>ABDUL SAMAD</td>\n",
       "      <td>13:13:43</td>\n",
       "      <td>10/20/22/10/2022</td>\n",
       "    </tr>\n",
       "    <tr>\n",
       "      <th>1</th>\n",
       "      <td>EKTA GUJAR</td>\n",
       "      <td>13:16:57</td>\n",
       "      <td>10/20/22/10/2022</td>\n",
       "    </tr>\n",
       "    <tr>\n",
       "      <th>2</th>\n",
       "      <td>SINDURA DASI</td>\n",
       "      <td>13:17:05</td>\n",
       "      <td>10/20/22/10/2022</td>\n",
       "    </tr>\n",
       "  </tbody>\n",
       "</table>\n",
       "</div>"
      ],
      "text/plain": [
       "           Name       Time                Date\n",
       "0   ABDUL SAMAD   13:13:43   10/20/22/10/2022 \n",
       "1    EKTA GUJAR   13:16:57   10/20/22/10/2022 \n",
       "2  SINDURA DASI   13:17:05   10/20/22/10/2022 "
      ]
     },
     "execution_count": 11,
     "metadata": {},
     "output_type": "execute_result"
    }
   ],
   "source": [
    "df1"
   ]
  },
  {
   "cell_type": "code",
   "execution_count": 12,
   "id": "c3cb84ff",
   "metadata": {},
   "outputs": [],
   "source": [
    "df1.to_csv('clean.csv')"
   ]
  },
  {
   "cell_type": "code",
   "execution_count": null,
   "id": "e4eca028",
   "metadata": {},
   "outputs": [],
   "source": []
  }
 ],
 "metadata": {
  "kernelspec": {
   "display_name": "Python 3 (ipykernel)",
   "language": "python",
   "name": "python3"
  },
  "language_info": {
   "codemirror_mode": {
    "name": "ipython",
    "version": 3
   },
   "file_extension": ".py",
   "mimetype": "text/x-python",
   "name": "python",
   "nbconvert_exporter": "python",
   "pygments_lexer": "ipython3",
   "version": "3.10.4"
  },
  "vscode": {
   "interpreter": {
    "hash": "8ea6ebc6a1b318a2f0e2af5f9dfc6de9de856a436c45132f7e06c2fe18289db6"
   }
  }
 },
 "nbformat": 4,
 "nbformat_minor": 5
}
