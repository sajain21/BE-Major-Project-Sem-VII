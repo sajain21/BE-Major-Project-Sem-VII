{
 "cells": [
  {
   "cell_type": "code",
   "execution_count": 1,
   "metadata": {},
   "outputs": [],
   "source": [
    "import numpy\n",
    "import os\n",
    "from keras import applications\n",
    "from keras.preprocessing.image import ImageDataGenerator\n",
    "from keras import optimizers\n",
    "from keras.models import Sequential, Model\n",
    "from keras.layers import Dropout, Flatten, Dense, GlobalAveragePooling2D\n",
    "from keras import backend as k\n",
    "from keras.callbacks import ModelCheckpoint, LearningRateScheduler, TensorBoard, EarlyStopping"
   ]
  },
  {
   "cell_type": "markdown",
   "metadata": {},
   "source": [
    "### 1. Load Test and Train Files"
   ]
  },
  {
   "cell_type": "code",
   "execution_count": 2,
   "metadata": {},
   "outputs": [
    {
     "name": "stdout",
     "output_type": "stream",
     "text": [
      "381 164\n"
     ]
    }
   ],
   "source": [
    "files_train = 0\n",
    "files_validation = 0\n",
    "\n",
    "cwd = os.getcwd()\n",
    "folder = 'train_data/train'\n",
    "for sub_folder in os.listdir(folder):\n",
    "    path, dirs, files = next(os.walk(os.path.join(folder,sub_folder)))\n",
    "    files_train += len(files)\n",
    "\n",
    "\n",
    "folder = 'train_data/test'\n",
    "for sub_folder in os.listdir(folder):\n",
    "    path, dirs, files = next(os.walk(os.path.join(folder,sub_folder)))\n",
    "    files_validation += len(files)\n",
    "\n",
    "print(files_train,files_validation)"
   ]
  },
  {
   "cell_type": "markdown",
   "metadata": {},
   "source": [
    "### 2. Set key parameters"
   ]
  },
  {
   "cell_type": "code",
   "execution_count": 3,
   "metadata": {},
   "outputs": [],
   "source": [
    "img_width, img_height = 48, 48\n",
    "train_data_dir = \"train_data/train\"\n",
    "validation_data_dir = \"train_data/test\"\n",
    "nb_train_samples = files_train\n",
    "nb_validation_samples = files_validation\n",
    "batch_size = 32\n",
    "epochs = 15\n",
    "num_classes = 2"
   ]
  },
  {
   "cell_type": "markdown",
   "metadata": {},
   "source": [
    "### 3. Build model on top of a trained VGG"
   ]
  },
  {
   "cell_type": "code",
   "execution_count": 4,
   "metadata": {},
   "outputs": [],
   "source": [
    "model = applications.VGG16(weights = \"imagenet\", include_top=False, input_shape = (img_width, img_height, 3))\n",
    "# Freeze the layers which you don't want to train. Here I am freezing the first 5 layers.\n",
    "for layer in model.layers[:10]:\n",
    "    layer.trainable = False"
   ]
  },
  {
   "cell_type": "code",
   "execution_count": 6,
   "metadata": {},
   "outputs": [],
   "source": [
    "x = model.output\n",
    "x = Flatten()(x)\n",
    "# x = Dense(512, activation=\"relu\")(x)\n",
    "# x = Dropout(0.5)(x)\n",
    "# x = Dense(256, activation=\"relu\")(x)\n",
    "# x = Dropout(0.5)(x)\n",
    "predictions = Dense(num_classes, activation=\"softmax\")(x)\n",
    "\n",
    "# creating the final model\n",
    "model_final = Model(model.input,predictions)\n",
    "\n",
    "# compile the model\n",
    "model_final.compile(loss = \"categorical_crossentropy\", \n",
    "                    optimizer = optimizers.SGD(learning_rate=0.0001, momentum=0.9), \n",
    "                    metrics=[\"accuracy\"]) # See learning rate is very low"
   ]
  },
  {
   "cell_type": "code",
   "execution_count": 7,
   "metadata": {},
   "outputs": [
    {
     "name": "stdout",
     "output_type": "stream",
     "text": [
      "Found 381 images belonging to 2 classes.\n",
      "Found 164 images belonging to 2 classes.\n"
     ]
    }
   ],
   "source": [
    "# Initiate the train and test generators with data Augumentation\n",
    "train_datagen = ImageDataGenerator(\n",
    "rescale = 1./255,\n",
    "horizontal_flip = True,\n",
    "fill_mode = \"nearest\",\n",
    "zoom_range = 0.1,\n",
    "width_shift_range = 0.1,\n",
    "height_shift_range=0.1,\n",
    "rotation_range=5)\n",
    "\n",
    "test_datagen = ImageDataGenerator(\n",
    "rescale = 1./255,\n",
    "horizontal_flip = True,\n",
    "fill_mode = \"nearest\",\n",
    "zoom_range = 0.1,\n",
    "width_shift_range = 0.1,\n",
    "height_shift_range=0.1,\n",
    "rotation_range=5)\n",
    "\n",
    "train_generator = train_datagen.flow_from_directory(\n",
    "train_data_dir,\n",
    "target_size = (img_height, img_width),\n",
    "batch_size = batch_size,\n",
    "class_mode = \"categorical\")\n",
    "\n",
    "validation_generator = test_datagen.flow_from_directory(\n",
    "validation_data_dir,\n",
    "target_size = (img_height, img_width),\n",
    "class_mode = \"categorical\")"
   ]
  },
  {
   "cell_type": "code",
   "execution_count": 16,
   "metadata": {},
   "outputs": [
    {
     "name": "stdout",
     "output_type": "stream",
     "text": [
      "WARNING:tensorflow:`period` argument is deprecated. Please use `save_freq` to specify the frequency in number of batches seen.\n"
     ]
    }
   ],
   "source": [
    "# Save the model according to the conditions\n",
    "checkpoint = ModelCheckpoint(\"car1.h5\", monitor='val_accuracy', verbose=1, save_best_only=True, save_weights_only=False, mode='auto', period=1)\n",
    "early = EarlyStopping(monitor='val_accuracy', min_delta=0, patience=10, verbose=1, mode='auto')\n"
   ]
  },
  {
   "cell_type": "code",
   "execution_count": 19,
   "metadata": {},
   "outputs": [
    {
     "name": "stderr",
     "output_type": "stream",
     "text": [
      "C:\\Users\\snehal\\AppData\\Local\\Temp\\ipykernel_14916\\3153849259.py:1: UserWarning: `Model.fit_generator` is deprecated and will be removed in a future version. Please use `Model.fit`, which supports generators.\n",
      "  history_object = model_final.fit_generator(\n"
     ]
    },
    {
     "name": "stdout",
     "output_type": "stream",
     "text": [
      "Epoch 1/15\n",
      "11/11 [==============================] - ETA: 0s - loss: 0.0483 - accuracy: 0.9857\n",
      "Epoch 1: val_accuracy improved from 0.93902 to 0.95625, saving model to car1.h5\n",
      "11/11 [==============================] - 17s 2s/step - loss: 0.0483 - accuracy: 0.9857 - val_loss: 0.1360 - val_accuracy: 0.9563\n",
      "Epoch 2/15\n",
      "11/11 [==============================] - ETA: 0s - loss: 0.0458 - accuracy: 0.9857\n",
      "Epoch 2: val_accuracy did not improve from 0.95625\n",
      "11/11 [==============================] - 15s 1s/step - loss: 0.0458 - accuracy: 0.9857 - val_loss: 0.1556 - val_accuracy: 0.9500\n",
      "Epoch 3/15\n",
      "11/11 [==============================] - ETA: 0s - loss: 0.0371 - accuracy: 0.9885\n",
      "Epoch 3: val_accuracy did not improve from 0.95625\n",
      "11/11 [==============================] - 15s 1s/step - loss: 0.0371 - accuracy: 0.9885 - val_loss: 0.1836 - val_accuracy: 0.9312\n",
      "Epoch 4/15\n",
      "11/11 [==============================] - ETA: 0s - loss: 0.0389 - accuracy: 0.9914\n",
      "Epoch 4: val_accuracy did not improve from 0.95625\n",
      "11/11 [==============================] - 13s 1s/step - loss: 0.0389 - accuracy: 0.9914 - val_loss: 0.1541 - val_accuracy: 0.9375\n",
      "Epoch 5/15\n",
      "11/11 [==============================] - ETA: 0s - loss: 0.0480 - accuracy: 0.9828\n",
      "Epoch 5: val_accuracy did not improve from 0.95625\n",
      "11/11 [==============================] - 11s 966ms/step - loss: 0.0480 - accuracy: 0.9828 - val_loss: 0.1746 - val_accuracy: 0.9375\n",
      "Epoch 6/15\n",
      "11/11 [==============================] - ETA: 0s - loss: 0.0471 - accuracy: 0.9885\n",
      "Epoch 6: val_accuracy did not improve from 0.95625\n",
      "11/11 [==============================] - 11s 973ms/step - loss: 0.0471 - accuracy: 0.9885 - val_loss: 0.1671 - val_accuracy: 0.9375\n",
      "Epoch 7/15\n",
      "11/11 [==============================] - ETA: 0s - loss: 0.0335 - accuracy: 0.9943\n",
      "Epoch 7: val_accuracy did not improve from 0.95625\n",
      "11/11 [==============================] - 11s 980ms/step - loss: 0.0335 - accuracy: 0.9943 - val_loss: 0.1738 - val_accuracy: 0.9375\n",
      "Epoch 8/15\n",
      "11/11 [==============================] - ETA: 0s - loss: 0.0300 - accuracy: 0.9915\n",
      "Epoch 8: val_accuracy did not improve from 0.95625\n",
      "11/11 [==============================] - 11s 998ms/step - loss: 0.0300 - accuracy: 0.9915 - val_loss: 0.1504 - val_accuracy: 0.9438\n",
      "Epoch 9/15\n",
      "11/11 [==============================] - ETA: 0s - loss: 0.0340 - accuracy: 0.9943\n",
      "Epoch 9: val_accuracy did not improve from 0.95625\n",
      "11/11 [==============================] - 11s 982ms/step - loss: 0.0340 - accuracy: 0.9943 - val_loss: 0.1899 - val_accuracy: 0.9375\n",
      "Epoch 10/15\n",
      "11/11 [==============================] - ETA: 0s - loss: 0.0371 - accuracy: 0.9914\n",
      "Epoch 10: val_accuracy did not improve from 0.95625\n",
      "11/11 [==============================] - 11s 985ms/step - loss: 0.0371 - accuracy: 0.9914 - val_loss: 0.1572 - val_accuracy: 0.9438\n",
      "Epoch 11/15\n",
      "11/11 [==============================] - ETA: 0s - loss: 0.0404 - accuracy: 0.9914\n",
      "Epoch 11: val_accuracy did not improve from 0.95625\n",
      "11/11 [==============================] - 11s 984ms/step - loss: 0.0404 - accuracy: 0.9914 - val_loss: 0.1248 - val_accuracy: 0.9500\n",
      "Epoch 11: early stopping\n"
     ]
    }
   ],
   "source": [
    "history_object = model_final.fit_generator(\n",
    "train_generator,\n",
    "steps_per_epoch=nb_train_samples//batch_size,\n",
    "epochs = epochs,\n",
    "validation_data = validation_generator,\n",
    "validation_steps = nb_validation_samples // batch_size,\n",
    "callbacks = [checkpoint, early])"
   ]
  },
  {
   "cell_type": "code",
   "execution_count": 21,
   "metadata": {},
   "outputs": [
    {
     "name": "stdout",
     "output_type": "stream",
     "text": [
      "dict_keys(['loss', 'accuracy', 'val_loss', 'val_accuracy'])\n"
     ]
    },
    {
     "data": {
      "image/png": "[encoded data removed]",
      "text/plain": [
       "<Figure size 432x288 with 1 Axes>"
      ]
     },
     "metadata": {
      "needs_background": "light"
     },
     "output_type": "display_data"
    }
   ],
   "source": [
    "import matplotlib.pyplot as plt\n",
    "print(history_object.history.keys())\n",
    "plt.plot(history_object.history['accuracy'])\n",
    "plt.plot(history_object.history['val_accuracy'])\n",
    "plt.title('model accuracy')\n",
    "plt.ylabel('accuracy')\n",
    "plt.xlabel('epoch')\n",
    "plt.legend(['train', 'test'], loc='upper left')\n",
    "plt.show()"
   ]
  },
  {
   "cell_type": "code",
   "execution_count": 22,
   "metadata": {},
   "outputs": [
    {
     "data": {
      "image/png": "[encoded data removed]",
      "text/plain": [
       "<Figure size 432x288 with 1 Axes>"
      ]
     },
     "metadata": {
      "needs_background": "light"
     },
     "output_type": "display_data"
    }
   ],
   "source": [
    "plt.plot(history_object.history['loss'])\n",
    "plt.plot(history_object.history['val_loss'])\n",
    "plt.title('model loss')\n",
    "plt.ylabel('loss')\n",
    "plt.xlabel('epoch')\n",
    "plt.legend(['train', 'test'], loc='upper left')\n",
    "plt.show()"
   ]
  },
  {
   "cell_type": "code",
   "execution_count": null,
   "metadata": {},
   "outputs": [],
   "source": []
  }
 ],
 "metadata": {
  "kernelspec": {
   "display_name": "Python 3 (ipykernel)",
   "language": "python",
   "name": "python3"
  },
  "language_info": {
   "codemirror_mode": {
    "name": "ipython",
    "version": 3
   },
   "file_extension": ".py",
   "mimetype": "text/x-python",
   "name": "python",
   "nbconvert_exporter": "python",
   "pygments_lexer": "ipython3",
   "version": "3.9.13"
  }
 },
 "nbformat": 4,
 "nbformat_minor": 2
}
