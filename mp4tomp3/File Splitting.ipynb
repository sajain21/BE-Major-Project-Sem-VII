{
 "cells": [
  {
   "cell_type": "code",
   "execution_count": 6,
   "id": "c038ba93",
   "metadata": {},
   "outputs": [],
   "source": [
    "import os\n",
    "from moviepy.editor import *\n",
    "from moviepy.video.io.ffmpeg_tools import ffmpeg_extract_audio\n",
    "\n",
    "\n",
    "def main():    \n",
    "    entries = []\n",
    "    for file in os.listdir():\n",
    "        if str(file).endswith('.mp4'):\n",
    "            print(f'FILE: {file}')\n",
    "            entries.append(file)\n",
    "        else:\n",
    "            pass\n",
    "\n",
    "    for entry in entries:\n",
    "        try:\n",
    "            mp4_file = os.path.abspath(entry)\n",
    "            mp3_file = os.path.abspath(str(entry).replace('mp4', 'mp3'))        \n",
    "            video = VideoFileClip(mp4_file, audio=True, fps_source='tbr')\n",
    "            audio = video.audio\n",
    "            \n",
    "            audio.write_audiofile(mp3_file)\n",
    "            \n",
    "            audio.close()\n",
    "            video.close()\n",
    "        except KeyError as ke:\n",
    "            print(f'KeyError: {ke} => {entry}')\n",
    "            try:\n",
    "                ffmpeg_extract_audio(mp4_file, mp3_file)\n",
    "                print(f'CONVERTED: \"{mp4_file}\" to .mp3')\n",
    "                os.remove(mp4_file)\n",
    "                print(f'REMOVED: {mp4_file}')\n",
    "                continue                \n",
    "            except PermissionError as pe:\n",
    "                print(pe)\n",
    "                continue\n",
    "\n",
    "main()"
   ]
  },
  {
   "cell_type": "code",
   "execution_count": null,
   "id": "678901c2",
   "metadata": {},
   "outputs": [],
   "source": []
  }
 ],
 "metadata": {
  "kernelspec": {
   "display_name": "Python 3 (ipykernel)",
   "language": "python",
   "name": "python3"
  },
  "language_info": {
   "codemirror_mode": {
    "name": "ipython",
    "version": 3
   },
   "file_extension": ".py",
   "mimetype": "text/x-python",
   "name": "python",
   "nbconvert_exporter": "python",
   "pygments_lexer": "ipython3",
   "version": "3.9.6"
  }
 },
 "nbformat": 4,
 "nbformat_minor": 5
}
