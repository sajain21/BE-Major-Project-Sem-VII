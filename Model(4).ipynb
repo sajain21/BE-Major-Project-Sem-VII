{
 "cells": [
  {
   "cell_type": "code",
   "execution_count": 1,
   "id": "fac31215",
   "metadata": {},
   "outputs": [],
   "source": [
    "import os, types\n",
    "import matplotlib.pyplot as plt\n",
    "import pandas as pd\n",
    "from tensorflow.keras.preprocessing.image import ImageDataGenerator\n",
    "from tensorflow.keras.models import Sequential\n",
    "from tensorflow.keras.layers import Dense,Convolution2D,MaxPooling2D,Flatten,BatchNormalization,LeakyReLU, Dropout\n",
    "import tensorflow as tf\n",
    "from keras.callbacks import ModelCheckpoint\n",
    "import numpy as np\n",
    "from tensorflow.keras.models import load_model\n",
    "from tensorflow.keras.preprocessing import image\n",
    "from keras.callbacks import ModelCheckpoint,EarlyStopping"
   ]
  },
  {
   "cell_type": "code",
   "execution_count": 2,
   "id": "9ee0988f",
   "metadata": {},
   "outputs": [],
   "source": [
    "train_datagen=ImageDataGenerator(rescale=1./255,zoom_range=0.2)"
   ]
  },
  {
   "cell_type": "code",
   "execution_count": 3,
   "id": "c083765b",
   "metadata": {},
   "outputs": [],
   "source": [
    "test_datagen=ImageDataGenerator(rescale=1./255)"
   ]
  },
  {
   "cell_type": "code",
   "execution_count": 4,
   "id": "f4ca367e",
   "metadata": {},
   "outputs": [
    {
     "name": "stdout",
     "output_type": "stream",
     "text": [
      "Found 78200 images belonging to 46 classes.\n",
      "Found 13800 images belonging to 46 classes.\n"
     ]
    }
   ],
   "source": [
    "x_train = train_datagen.flow_from_directory('C:/Users/USER/Desktop/Major/data/Train', target_size = (32, 32), \n",
    "                                                 batch_size = 256, class_mode = 'categorical')\n",
    "x_test = test_datagen.flow_from_directory('C:/Users/USER/Desktop/Major/data/Test', target_size = (32, 32), \n",
    "                                                 batch_size = 256, class_mode = 'categorical')"
   ]
  },
  {
   "cell_type": "code",
   "execution_count": 8,
   "id": "36dad21b",
   "metadata": {},
   "outputs": [
    {
     "data": {
      "text/plain": [
       "dict_keys(['character_10_yna', 'character_11_taamatar', 'character_12_thaa', 'character_13_daa', 'character_14_dhaa', 'character_15_adna', 'character_16_tabala', 'character_17_tha', 'character_18_da', 'character_19_dha', 'character_1_ka', 'character_20_na', 'character_21_pa', 'character_22_pha', 'character_23_ba', 'character_24_bha', 'character_25_ma', 'character_26_yaw', 'character_27_ra', 'character_28_la', 'character_29_waw', 'character_2_kha', 'character_30_motosaw', 'character_31_petchiryakha', 'character_32_patalosaw', 'character_33_ha', 'character_34_chhya', 'character_35_tra', 'character_36_gya', 'character_3_ga', 'character_4_gha', 'character_5_kna', 'character_6_cha', 'character_7_chha', 'character_8_ja', 'character_9_jha', 'digit_0', 'digit_1', 'digit_2', 'digit_3', 'digit_4', 'digit_5', 'digit_6', 'digit_7', 'digit_8', 'digit_9'])"
      ]
     },
     "execution_count": 8,
     "metadata": {},
     "output_type": "execute_result"
    }
   ],
   "source": [
    "x_train.class_indices"
   ]
  },
  {
   "cell_type": "code",
   "execution_count": 7,
   "id": "d94eb892",
   "metadata": {},
   "outputs": [],
   "source": [
    "model=Sequential()\n",
    "model.add(Convolution2D(32,(3,3),input_shape=(32,32,3),activation=LeakyReLU(),padding='same'))\n",
    "model.add(Convolution2D(32,(3,3),activation=LeakyReLU(),padding='same'))\n",
    "model.add(MaxPooling2D(pool_size=(2,2)))\n",
    "model.add(Dropout(0.25))\n",
    "model.add(Convolution2D(64,(3,3),activation='relu',padding='same'))\n",
    "model.add(Convolution2D(64,(3,3),activation='relu',padding='same'))\n",
    "model.add(MaxPooling2D(pool_size=(2,2)))\n",
    "model.add(Dropout(0.25))\n",
    "model.add(Flatten())\n",
    "model.add(Dense(256))\n",
    "model.add(Dropout(0.25))\n",
    "model.add(Dense(46,activation='softmax'))"
   ]
  },
  {
   "cell_type": "code",
   "execution_count": 8,
   "id": "97d5b80d",
   "metadata": {},
   "outputs": [
    {
     "name": "stdout",
     "output_type": "stream",
     "text": [
      "Model: \"sequential\"\n",
      "_________________________________________________________________\n",
      " Layer (type)                Output Shape              Param #   \n",
      "=================================================================\n",
      " conv2d (Conv2D)             (None, 32, 32, 32)        896       \n",
      "                                                                 \n",
      " conv2d_1 (Conv2D)           (None, 32, 32, 32)        9248      \n",
      "                                                                 \n",
      " max_pooling2d (MaxPooling2D  (None, 16, 16, 32)       0         \n",
      " )                                                               \n",
      "                                                                 \n",
      " dropout (Dropout)           (None, 16, 16, 32)        0         \n",
      "                                                                 \n",
      " conv2d_2 (Conv2D)           (None, 16, 16, 64)        18496     \n",
      "                                                                 \n",
      " conv2d_3 (Conv2D)           (None, 16, 16, 64)        36928     \n",
      "                                                                 \n",
      " max_pooling2d_1 (MaxPooling  (None, 8, 8, 64)         0         \n",
      " 2D)                                                             \n",
      "                                                                 \n",
      " dropout_1 (Dropout)         (None, 8, 8, 64)          0         \n",
      "                                                                 \n",
      " flatten (Flatten)           (None, 4096)              0         \n",
      "                                                                 \n",
      " dense (Dense)               (None, 256)               1048832   \n",
      "                                                                 \n",
      " dropout_2 (Dropout)         (None, 256)               0         \n",
      "                                                                 \n",
      " dense_1 (Dense)             (None, 46)                11822     \n",
      "                                                                 \n",
      "=================================================================\n",
      "Total params: 1,126,222\n",
      "Trainable params: 1,126,222\n",
      "Non-trainable params: 0\n",
      "_________________________________________________________________\n"
     ]
    }
   ],
   "source": [
    "model.summary()"
   ]
  },
  {
   "cell_type": "code",
   "execution_count": 9,
   "id": "57af2b54",
   "metadata": {},
   "outputs": [],
   "source": [
    "model.compile(loss='categorical_crossentropy',optimizer='rmsprop',metrics=['accuracy'])"
   ]
  },
  {
   "cell_type": "code",
   "execution_count": 10,
   "id": "eb72c783",
   "metadata": {},
   "outputs": [
    {
     "name": "stderr",
     "output_type": "stream",
     "text": [
      "C:\\Users\\USER\\AppData\\Local\\Temp\\ipykernel_964\\2044343390.py:5: UserWarning: `Model.fit_generator` is deprecated and will be removed in a future version. Please use `Model.fit`, which supports generators.\n",
      "  output=model.fit_generator(x_train,steps_per_epoch=len(x_train),callbacks=callbacks,epochs=70,validation_data=x_test,validation_steps=len(x_test))\n"
     ]
    },
    {
     "name": "stdout",
     "output_type": "stream",
     "text": [
      "Epoch 1/70\n",
      "306/306 [==============================] - ETA: 0s - loss: 0.8089 - accuracy: 0.7738\n",
      "Epoch 1: val_accuracy improved from -inf to 0.95406, saving model to devnagri.hdf5\n",
      "306/306 [==============================] - 207s 671ms/step - loss: 0.8089 - accuracy: 0.7738 - val_loss: 0.1472 - val_accuracy: 0.9541\n",
      "Epoch 2/70\n",
      "306/306 [==============================] - ETA: 0s - loss: 0.2077 - accuracy: 0.9367\n",
      "Epoch 2: val_accuracy improved from 0.95406 to 0.97486, saving model to devnagri.hdf5\n",
      "306/306 [==============================] - 182s 593ms/step - loss: 0.2077 - accuracy: 0.9367 - val_loss: 0.0817 - val_accuracy: 0.9749\n",
      "Epoch 3/70\n",
      "306/306 [==============================] - ETA: 0s - loss: 0.1378 - accuracy: 0.9579\n",
      "Epoch 3: val_accuracy improved from 0.97486 to 0.98065, saving model to devnagri.hdf5\n",
      "306/306 [==============================] - 175s 572ms/step - loss: 0.1378 - accuracy: 0.9579 - val_loss: 0.0663 - val_accuracy: 0.9807\n",
      "Epoch 4/70\n",
      "306/306 [==============================] - ETA: 0s - loss: 0.1066 - accuracy: 0.9669\n",
      "Epoch 4: val_accuracy improved from 0.98065 to 0.98246, saving model to devnagri.hdf5\n",
      "306/306 [==============================] - 176s 574ms/step - loss: 0.1066 - accuracy: 0.9669 - val_loss: 0.0601 - val_accuracy: 0.9825\n",
      "Epoch 5/70\n",
      "306/306 [==============================] - ETA: 0s - loss: 0.0908 - accuracy: 0.9718\n",
      "Epoch 5: val_accuracy improved from 0.98246 to 0.98355, saving model to devnagri.hdf5\n",
      "306/306 [==============================] - 179s 585ms/step - loss: 0.0908 - accuracy: 0.9718 - val_loss: 0.0578 - val_accuracy: 0.9836\n",
      "Epoch 6/70\n",
      "306/306 [==============================] - ETA: 0s - loss: 0.0783 - accuracy: 0.9763\n",
      "Epoch 6: val_accuracy improved from 0.98355 to 0.98471, saving model to devnagri.hdf5\n",
      "306/306 [==============================] - 183s 598ms/step - loss: 0.0783 - accuracy: 0.9763 - val_loss: 0.0534 - val_accuracy: 0.9847\n",
      "Epoch 7/70\n",
      "306/306 [==============================] - ETA: 0s - loss: 0.0681 - accuracy: 0.9789\n",
      "Epoch 7: val_accuracy improved from 0.98471 to 0.98522, saving model to devnagri.hdf5\n",
      "306/306 [==============================] - 175s 573ms/step - loss: 0.0681 - accuracy: 0.9789 - val_loss: 0.0535 - val_accuracy: 0.9852\n",
      "Epoch 8/70\n",
      "306/306 [==============================] - ETA: 0s - loss: 0.0647 - accuracy: 0.9795\n",
      "Epoch 8: val_accuracy improved from 0.98522 to 0.98652, saving model to devnagri.hdf5\n",
      "306/306 [==============================] - 225s 735ms/step - loss: 0.0647 - accuracy: 0.9795 - val_loss: 0.0502 - val_accuracy: 0.9865\n",
      "Epoch 9/70\n",
      "306/306 [==============================] - ETA: 0s - loss: 0.0578 - accuracy: 0.9819\n",
      "Epoch 9: val_accuracy improved from 0.98652 to 0.98732, saving model to devnagri.hdf5\n",
      "306/306 [==============================] - 487s 2s/step - loss: 0.0578 - accuracy: 0.9819 - val_loss: 0.0447 - val_accuracy: 0.9873\n",
      "Epoch 10/70\n",
      "306/306 [==============================] - ETA: 0s - loss: 0.0537 - accuracy: 0.9831\n",
      "Epoch 10: val_accuracy improved from 0.98732 to 0.98797, saving model to devnagri.hdf5\n",
      "306/306 [==============================] - 423s 1s/step - loss: 0.0537 - accuracy: 0.9831 - val_loss: 0.0471 - val_accuracy: 0.9880\n",
      "Epoch 11/70\n",
      "306/306 [==============================] - ETA: 0s - loss: 0.0501 - accuracy: 0.9841\n",
      "Epoch 11: val_accuracy improved from 0.98797 to 0.98986, saving model to devnagri.hdf5\n",
      "306/306 [==============================] - 425s 1s/step - loss: 0.0501 - accuracy: 0.9841 - val_loss: 0.0397 - val_accuracy: 0.9899\n",
      "Epoch 12/70\n",
      "306/306 [==============================] - ETA: 0s - loss: 0.0478 - accuracy: 0.9847\n",
      "Epoch 12: val_accuracy did not improve from 0.98986\n",
      "306/306 [==============================] - 1222s 4s/step - loss: 0.0478 - accuracy: 0.9847 - val_loss: 0.0422 - val_accuracy: 0.9899\n",
      "Epoch 13/70\n",
      "306/306 [==============================] - ETA: 0s - loss: 0.0445 - accuracy: 0.9857\n",
      "Epoch 13: val_accuracy did not improve from 0.98986\n",
      "306/306 [==============================] - 168s 548ms/step - loss: 0.0445 - accuracy: 0.9857 - val_loss: 0.0475 - val_accuracy: 0.9886\n",
      "Epoch 14/70\n",
      "306/306 [==============================] - ETA: 0s - loss: 0.0445 - accuracy: 0.9858\n",
      "Epoch 14: val_accuracy improved from 0.98986 to 0.99014, saving model to devnagri.hdf5\n",
      "306/306 [==============================] - 173s 566ms/step - loss: 0.0445 - accuracy: 0.9858 - val_loss: 0.0399 - val_accuracy: 0.9901\n",
      "Epoch 15/70\n",
      "306/306 [==============================] - ETA: 0s - loss: 0.0413 - accuracy: 0.9871\n",
      "Epoch 15: val_accuracy did not improve from 0.99014\n",
      "306/306 [==============================] - 174s 569ms/step - loss: 0.0413 - accuracy: 0.9871 - val_loss: 0.0429 - val_accuracy: 0.9884\n",
      "Epoch 16/70\n",
      "306/306 [==============================] - ETA: 0s - loss: 0.0391 - accuracy: 0.9873\n",
      "Epoch 16: val_accuracy did not improve from 0.99014\n",
      "306/306 [==============================] - 172s 561ms/step - loss: 0.0391 - accuracy: 0.9873 - val_loss: 0.0446 - val_accuracy: 0.9885\n",
      "Epoch 17/70\n",
      "306/306 [==============================] - ETA: 0s - loss: 0.0381 - accuracy: 0.9877\n",
      "Epoch 17: val_accuracy improved from 0.99014 to 0.99101, saving model to devnagri.hdf5\n",
      "306/306 [==============================] - 174s 569ms/step - loss: 0.0381 - accuracy: 0.9877 - val_loss: 0.0398 - val_accuracy: 0.9910\n",
      "Epoch 18/70\n",
      "306/306 [==============================] - ETA: 0s - loss: 0.0382 - accuracy: 0.9879\n",
      "Epoch 18: val_accuracy did not improve from 0.99101\n",
      "306/306 [==============================] - 170s 557ms/step - loss: 0.0382 - accuracy: 0.9879 - val_loss: 0.0442 - val_accuracy: 0.9898\n",
      "Epoch 19/70\n",
      "306/306 [==============================] - ETA: 0s - loss: 0.0380 - accuracy: 0.9882\n",
      "Epoch 19: val_accuracy did not improve from 0.99101\n",
      "306/306 [==============================] - 164s 535ms/step - loss: 0.0380 - accuracy: 0.9882 - val_loss: 0.0455 - val_accuracy: 0.9894\n",
      "Epoch 20/70\n",
      "306/306 [==============================] - ETA: 0s - loss: 0.0351 - accuracy: 0.9886\n",
      "Epoch 20: val_accuracy did not improve from 0.99101\n",
      "306/306 [==============================] - 164s 534ms/step - loss: 0.0351 - accuracy: 0.9886 - val_loss: 0.0437 - val_accuracy: 0.9894\n",
      "Epoch 21/70\n",
      "306/306 [==============================] - ETA: 0s - loss: 0.0347 - accuracy: 0.9890\n",
      "Epoch 21: val_accuracy did not improve from 0.99101\n",
      "306/306 [==============================] - 164s 536ms/step - loss: 0.0347 - accuracy: 0.9890 - val_loss: 0.0386 - val_accuracy: 0.9908\n",
      "Epoch 22/70\n",
      "306/306 [==============================] - ETA: 0s - loss: 0.0338 - accuracy: 0.9892\n",
      "Epoch 22: val_accuracy did not improve from 0.99101\n",
      "306/306 [==============================] - 165s 539ms/step - loss: 0.0338 - accuracy: 0.9892 - val_loss: 0.0373 - val_accuracy: 0.9905\n",
      "Epoch 23/70\n",
      "306/306 [==============================] - ETA: 0s - loss: 0.0320 - accuracy: 0.9900\n",
      "Epoch 23: val_accuracy did not improve from 0.99101\n",
      "306/306 [==============================] - 166s 541ms/step - loss: 0.0320 - accuracy: 0.9900 - val_loss: 0.0389 - val_accuracy: 0.9909\n",
      "Epoch 24/70\n",
      "306/306 [==============================] - ETA: 0s - loss: 0.0326 - accuracy: 0.9892\n",
      "Epoch 24: val_accuracy did not improve from 0.99101\n",
      "Restoring model weights from the end of the best epoch: 17.\n",
      "306/306 [==============================] - 165s 539ms/step - loss: 0.0326 - accuracy: 0.9892 - val_loss: 0.0409 - val_accuracy: 0.9903\n",
      "Epoch 24: early stopping\n"
     ]
    }
   ],
   "source": [
    "filepath = 'devnagri.hdf5'\n",
    "checkpoint = ModelCheckpoint(filepath=filepath, monitor='val_accuracy',verbose=1, save_best_only=True,mode='max')\n",
    "stop=EarlyStopping(monitor=\"val_accuracy\",patience=7,verbose=1,mode=\"max\",restore_best_weights=True)\n",
    "callbacks = [checkpoint,stop]\n",
    "output=model.fit_generator(x_train,steps_per_epoch=len(x_train),callbacks=callbacks,epochs=70,validation_data=x_test,validation_steps=len(x_test))"
   ]
  },
  {
   "cell_type": "code",
   "execution_count": null,
   "id": "16f1caef",
   "metadata": {},
   "outputs": [],
   "source": [
    "\n",
    "\n"
   ]
  }
 ],
 "metadata": {
  "kernelspec": {
   "display_name": "Python 3 (ipykernel)",
   "language": "python",
   "name": "python3"
  },
  "language_info": {
   "codemirror_mode": {
    "name": "ipython",
    "version": 3
   },
   "file_extension": ".py",
   "mimetype": "text/x-python",
   "name": "python",
   "nbconvert_exporter": "python",
   "pygments_lexer": "ipython3",
   "version": "3.9.12"
  }
 },
 "nbformat": 4,
 "nbformat_minor": 5
}
